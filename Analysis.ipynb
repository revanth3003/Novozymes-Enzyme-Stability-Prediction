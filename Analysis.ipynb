{
 "cells": [
  {
   "cell_type": "code",
   "execution_count": 18,
   "id": "26a17bcc",
   "metadata": {},
   "outputs": [],
   "source": [
    "import pandas as pd\n",
    "\n",
    "data=pd.read_csv('data.csv') \n",
    "data = data.dropna()"
   ]
  },
  {
   "cell_type": "code",
   "execution_count": 19,
   "id": "3ac3c0ed",
   "metadata": {},
   "outputs": [],
   "source": [
    "from Bio.SeqUtils.ProtParam import ProteinAnalysis\n",
    "\n",
    "protein_analyse_lists=[ProteinAnalysis(x) for x in data['protein_sequence']]"
   ]
  },
  {
   "cell_type": "code",
   "execution_count": 20,
   "id": "0bdc9769",
   "metadata": {},
   "outputs": [],
   "source": [
    "d={}\n",
    "for i in protein_analyse_lists:\n",
    "    dict_protein_amino=i.get_amino_acids_percent()\n",
    "    for k, v in dict_protein_amino.items():\n",
    "        if k in d:\n",
    "            d[k].append(v)\n",
    "        else:\n",
    "            d[k]=[v]"
   ]
  },
  {
   "cell_type": "code",
   "execution_count": 21,
   "id": "a6f4ba53",
   "metadata": {},
   "outputs": [],
   "source": [
    "for k, v in d.items():\n",
    "    data[k]=v\n"
   ]
  },
  {
   "cell_type": "markdown",
   "id": "fdce1d9d",
   "metadata": {},
   "source": [
    "data['char_count']           = data.protein_sequence.apply(lambda x: len(x))\n",
    "data['isoelectric_point']    = [i.isoelectric_point() for i in protein_analyse_lists]\n",
    "data[\"stability_analysis\"]   = [i.instability_index()for i in protein_analyse_lists]\n",
    "data[\"aromaticity_analysis\"] = [i.aromaticity() for i in protein_analyse_lists]\n",
    "data[\"isoelectric_analysis\"] = [i.isoelectric_point()for i in protein_analyse_lists]\n",
    "data[\"charge_analysis\"]      = [i.charge_at_pH(8.0) for i in protein_analyse_lists]\n",
    "data[\"helix_analysis\"]       = [i.secondary_structure_fraction()[0]for i in protein_analyse_lists]\n",
    "data[\"turn_analysis\"]        = [i.secondary_structure_fraction()[1]for i in protein_analyse_lists]\n",
    "data[\"sheet_analysis\"]       = [i.secondary_structure_fraction()[2]for i in protein_analyse_lists]\n",
    "data[\"mec_analysis_1\"]       = [i.molar_extinction_coefficient()[0]for i in protein_analyse_lists]\n",
    "data[\"mec_analysis_2\"]       = [i.molar_extinction_coefficient()[1]for i in protein_analyse_lists]\n",
    "data[\"gravy_analysis\"]       = [i.gravy() for i in protein_analyse_lists]"
   ]
  },
  {
   "cell_type": "code",
   "execution_count": 22,
   "id": "8d3f2e08",
   "metadata": {},
   "outputs": [
    {
     "data": {
      "text/html": [
       "<div>\n",
       "<style scoped>\n",
       "    .dataframe tbody tr th:only-of-type {\n",
       "        vertical-align: middle;\n",
       "    }\n",
       "\n",
       "    .dataframe tbody tr th {\n",
       "        vertical-align: top;\n",
       "    }\n",
       "\n",
       "    .dataframe thead th {\n",
       "        text-align: right;\n",
       "    }\n",
       "</style>\n",
       "<table border=\"1\" class=\"dataframe\">\n",
       "  <thead>\n",
       "    <tr style=\"text-align: right;\">\n",
       "      <th></th>\n",
       "      <th>seq_id</th>\n",
       "      <th>protein_sequence</th>\n",
       "      <th>pH</th>\n",
       "      <th>data_source</th>\n",
       "      <th>tm</th>\n",
       "      <th>A</th>\n",
       "      <th>C</th>\n",
       "      <th>D</th>\n",
       "      <th>E</th>\n",
       "      <th>F</th>\n",
       "      <th>...</th>\n",
       "      <th>M</th>\n",
       "      <th>N</th>\n",
       "      <th>P</th>\n",
       "      <th>Q</th>\n",
       "      <th>R</th>\n",
       "      <th>S</th>\n",
       "      <th>T</th>\n",
       "      <th>V</th>\n",
       "      <th>W</th>\n",
       "      <th>Y</th>\n",
       "    </tr>\n",
       "  </thead>\n",
       "  <tbody>\n",
       "    <tr>\n",
       "      <th>0</th>\n",
       "      <td>0</td>\n",
       "      <td>AAAAKAAALALLGEAPEVVDIWLPAGWRQPFRVFRLERKGDGVLVG...</td>\n",
       "      <td>7.0</td>\n",
       "      <td>doi.org/10.1038/s41592-020-0801-4</td>\n",
       "      <td>75.7</td>\n",
       "      <td>0.131965</td>\n",
       "      <td>0.002933</td>\n",
       "      <td>0.038123</td>\n",
       "      <td>0.087977</td>\n",
       "      <td>0.038123</td>\n",
       "      <td>...</td>\n",
       "      <td>0.023460</td>\n",
       "      <td>0.014663</td>\n",
       "      <td>0.052786</td>\n",
       "      <td>0.017595</td>\n",
       "      <td>0.073314</td>\n",
       "      <td>0.032258</td>\n",
       "      <td>0.041056</td>\n",
       "      <td>0.108504</td>\n",
       "      <td>0.011730</td>\n",
       "      <td>0.008798</td>\n",
       "    </tr>\n",
       "    <tr>\n",
       "      <th>1</th>\n",
       "      <td>1</td>\n",
       "      <td>AAADGEPLHNEEERAGAGQVGRSLPQESEEQRTGSRPRRRRDLGSR...</td>\n",
       "      <td>7.0</td>\n",
       "      <td>doi.org/10.1038/s41592-020-0801-4</td>\n",
       "      <td>50.5</td>\n",
       "      <td>0.097902</td>\n",
       "      <td>0.000000</td>\n",
       "      <td>0.034965</td>\n",
       "      <td>0.181818</td>\n",
       "      <td>0.020979</td>\n",
       "      <td>...</td>\n",
       "      <td>0.006993</td>\n",
       "      <td>0.020979</td>\n",
       "      <td>0.027972</td>\n",
       "      <td>0.076923</td>\n",
       "      <td>0.104895</td>\n",
       "      <td>0.048951</td>\n",
       "      <td>0.041958</td>\n",
       "      <td>0.045455</td>\n",
       "      <td>0.010490</td>\n",
       "      <td>0.010490</td>\n",
       "    </tr>\n",
       "    <tr>\n",
       "      <th>2</th>\n",
       "      <td>2</td>\n",
       "      <td>AAAFSTPRATSYRILSSAGSGSTRADAPQVRRLHTTRDLLAKDYYA...</td>\n",
       "      <td>7.0</td>\n",
       "      <td>doi.org/10.1038/s41592-020-0801-4</td>\n",
       "      <td>40.5</td>\n",
       "      <td>0.100604</td>\n",
       "      <td>0.018109</td>\n",
       "      <td>0.054326</td>\n",
       "      <td>0.064386</td>\n",
       "      <td>0.042254</td>\n",
       "      <td>...</td>\n",
       "      <td>0.012072</td>\n",
       "      <td>0.030181</td>\n",
       "      <td>0.040241</td>\n",
       "      <td>0.050302</td>\n",
       "      <td>0.062374</td>\n",
       "      <td>0.066398</td>\n",
       "      <td>0.060362</td>\n",
       "      <td>0.060362</td>\n",
       "      <td>0.006036</td>\n",
       "      <td>0.032193</td>\n",
       "    </tr>\n",
       "    <tr>\n",
       "      <th>3</th>\n",
       "      <td>3</td>\n",
       "      <td>AAASGLRTAIPAQPLRHLLQPAPRPCLRPFGLLSVRAGSARRSGLL...</td>\n",
       "      <td>7.0</td>\n",
       "      <td>doi.org/10.1038/s41592-020-0801-4</td>\n",
       "      <td>47.2</td>\n",
       "      <td>0.075472</td>\n",
       "      <td>0.018868</td>\n",
       "      <td>0.071698</td>\n",
       "      <td>0.109434</td>\n",
       "      <td>0.045283</td>\n",
       "      <td>...</td>\n",
       "      <td>0.007547</td>\n",
       "      <td>0.033962</td>\n",
       "      <td>0.060377</td>\n",
       "      <td>0.033962</td>\n",
       "      <td>0.037736</td>\n",
       "      <td>0.060377</td>\n",
       "      <td>0.071698</td>\n",
       "      <td>0.052830</td>\n",
       "      <td>0.011321</td>\n",
       "      <td>0.015094</td>\n",
       "    </tr>\n",
       "    <tr>\n",
       "      <th>4</th>\n",
       "      <td>4</td>\n",
       "      <td>AAATKSGPRRQSQGASVRTFTPFYFLVEPVDTLSVRGSSVILNCSA...</td>\n",
       "      <td>7.0</td>\n",
       "      <td>doi.org/10.1038/s41592-020-0801-4</td>\n",
       "      <td>49.5</td>\n",
       "      <td>0.059269</td>\n",
       "      <td>0.009649</td>\n",
       "      <td>0.053756</td>\n",
       "      <td>0.053756</td>\n",
       "      <td>0.022054</td>\n",
       "      <td>...</td>\n",
       "      <td>0.021365</td>\n",
       "      <td>0.044797</td>\n",
       "      <td>0.088215</td>\n",
       "      <td>0.037216</td>\n",
       "      <td>0.043418</td>\n",
       "      <td>0.101999</td>\n",
       "      <td>0.082702</td>\n",
       "      <td>0.085458</td>\n",
       "      <td>0.011027</td>\n",
       "      <td>0.032391</td>\n",
       "    </tr>\n",
       "  </tbody>\n",
       "</table>\n",
       "<p>5 rows × 25 columns</p>\n",
       "</div>"
      ],
      "text/plain": [
       "   seq_id                                   protein_sequence   pH  \\\n",
       "0       0  AAAAKAAALALLGEAPEVVDIWLPAGWRQPFRVFRLERKGDGVLVG...  7.0   \n",
       "1       1  AAADGEPLHNEEERAGAGQVGRSLPQESEEQRTGSRPRRRRDLGSR...  7.0   \n",
       "2       2  AAAFSTPRATSYRILSSAGSGSTRADAPQVRRLHTTRDLLAKDYYA...  7.0   \n",
       "3       3  AAASGLRTAIPAQPLRHLLQPAPRPCLRPFGLLSVRAGSARRSGLL...  7.0   \n",
       "4       4  AAATKSGPRRQSQGASVRTFTPFYFLVEPVDTLSVRGSSVILNCSA...  7.0   \n",
       "\n",
       "                         data_source    tm         A         C         D  \\\n",
       "0  doi.org/10.1038/s41592-020-0801-4  75.7  0.131965  0.002933  0.038123   \n",
       "1  doi.org/10.1038/s41592-020-0801-4  50.5  0.097902  0.000000  0.034965   \n",
       "2  doi.org/10.1038/s41592-020-0801-4  40.5  0.100604  0.018109  0.054326   \n",
       "3  doi.org/10.1038/s41592-020-0801-4  47.2  0.075472  0.018868  0.071698   \n",
       "4  doi.org/10.1038/s41592-020-0801-4  49.5  0.059269  0.009649  0.053756   \n",
       "\n",
       "          E         F  ...         M         N         P         Q         R  \\\n",
       "0  0.087977  0.038123  ...  0.023460  0.014663  0.052786  0.017595  0.073314   \n",
       "1  0.181818  0.020979  ...  0.006993  0.020979  0.027972  0.076923  0.104895   \n",
       "2  0.064386  0.042254  ...  0.012072  0.030181  0.040241  0.050302  0.062374   \n",
       "3  0.109434  0.045283  ...  0.007547  0.033962  0.060377  0.033962  0.037736   \n",
       "4  0.053756  0.022054  ...  0.021365  0.044797  0.088215  0.037216  0.043418   \n",
       "\n",
       "          S         T         V         W         Y  \n",
       "0  0.032258  0.041056  0.108504  0.011730  0.008798  \n",
       "1  0.048951  0.041958  0.045455  0.010490  0.010490  \n",
       "2  0.066398  0.060362  0.060362  0.006036  0.032193  \n",
       "3  0.060377  0.071698  0.052830  0.011321  0.015094  \n",
       "4  0.101999  0.082702  0.085458  0.011027  0.032391  \n",
       "\n",
       "[5 rows x 25 columns]"
      ]
     },
     "execution_count": 22,
     "metadata": {},
     "output_type": "execute_result"
    }
   ],
   "source": [
    "data.head()"
   ]
  },
  {
   "cell_type": "code",
   "execution_count": 23,
   "id": "20ebbc1e",
   "metadata": {},
   "outputs": [],
   "source": [
    "x=data.drop(['seq_id','protein_sequence','data_source','tm'],axis=1)"
   ]
  },
  {
   "cell_type": "code",
   "execution_count": 24,
   "id": "90b8f0df",
   "metadata": {},
   "outputs": [],
   "source": [
    "y=data.tm"
   ]
  },
  {
   "cell_type": "code",
   "execution_count": 25,
   "id": "b512547b",
   "metadata": {},
   "outputs": [],
   "source": [
    "from sklearn.model_selection import train_test_split\n",
    "\n",
    "X_train, X_test, y_train, y_test = train_test_split(x, y, test_size = 0.2, random_state = 5)"
   ]
  },
  {
   "cell_type": "code",
   "execution_count": 43,
   "id": "fba805fb",
   "metadata": {},
   "outputs": [
    {
     "name": "stdout",
     "output_type": "stream",
     "text": [
      "0.6163817688083707\n"
     ]
    }
   ],
   "source": [
    "from sklearn.ensemble import RandomForestRegressor\n",
    "from sklearn.metrics import r2_score\n",
    "\n",
    "reg=RandomForestRegressor()\n",
    "reg.fit( X_train, y_train) \n",
    "y_pred=reg.predict(X_test)\n",
    "print(r2_score(y_test, y_pred))"
   ]
  },
  {
   "cell_type": "code",
   "execution_count": 30,
   "id": "cffa260b",
   "metadata": {},
   "outputs": [
    {
     "data": {
      "image/png": "[encoded data removed]",
      "text/plain": [
       "<Figure size 432x288 with 1 Axes>"
      ]
     },
     "metadata": {
      "needs_background": "light"
     },
     "output_type": "display_data"
    }
   ],
   "source": [
    "%matplotlib inline\n",
    "import matplotlib.pyplot as plt\n",
    "\n",
    "plt.scatter(y_pred, y_test, lw=2, alpha=0.3)   \n",
    "plt.xlabel('Predicted')\n",
    "plt.ylabel('True')\n",
    "plt.title('Scatter plot')\n",
    "plt.show()"
   ]
  },
  {
   "cell_type": "code",
   "execution_count": 41,
   "id": "1fd5bca8",
   "metadata": {},
   "outputs": [
    {
     "name": "stdout",
     "output_type": "stream",
     "text": [
      "0.5992886582683219\n"
     ]
    }
   ],
   "source": [
    "from xgboost import XGBRegressor\n",
    "import xgboost as xgb\n",
    "\n",
    "xg_reg = xgb.XGBRegressor()\n",
    "xg_reg.fit(X_train,y_train)\n",
    "y_pred=xg_reg.predict(X_test)\n",
    "print(r2_score(y_test, y_pred))"
   ]
  },
  {
   "cell_type": "code",
   "execution_count": 47,
   "id": "f6ef302d",
   "metadata": {},
   "outputs": [
    {
     "name": "stdout",
     "output_type": "stream",
     "text": [
      "0.18667204900817225\n"
     ]
    }
   ],
   "source": [
    "from sklearn.tree import DecisionTreeRegressor \n",
    "  \n",
    "\n",
    "regressor = DecisionTreeRegressor(random_state = 0) \n",
    "regressor.fit(X_train,y_train)\n",
    "y_pred=regressor.predict(X_test)\n",
    "print(r2_score(y_test, y_pred))"
   ]
  },
  {
   "cell_type": "code",
   "execution_count": 48,
   "id": "30f6d7e2",
   "metadata": {},
   "outputs": [
    {
     "name": "stdout",
     "output_type": "stream",
     "text": [
      "-0.019913059706254455\n"
     ]
    }
   ],
   "source": [
    "from sklearn.svm import SVR\n",
    "\n",
    "regressor = SVR(kernel = 'rbf')\n",
    "regressor.fit(X_train, y_train)\n",
    "y_pred=regressor.predict(X_test)\n",
    "print(r2_score(y_test, y_pred))"
   ]
  },
  {
   "cell_type": "code",
   "execution_count": null,
   "id": "2bb2f775",
   "metadata": {},
   "outputs": [],
   "source": []
  }
 ],
 "metadata": {
  "kernelspec": {
   "display_name": "Python 3 (ipykernel)",
   "language": "python",
   "name": "python3"
  },
  "language_info": {
   "codemirror_mode": {
    "name": "ipython",
    "version": 3
   },
   "file_extension": ".py",
   "mimetype": "text/x-python",
   "name": "python",
   "nbconvert_exporter": "python",
   "pygments_lexer": "ipython3",
   "version": "3.9.12"
  }
 },
 "nbformat": 4,
 "nbformat_minor": 5
}
